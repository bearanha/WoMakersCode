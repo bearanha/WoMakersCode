{
  "nbformat": 4,
  "nbformat_minor": 0,
  "metadata": {
    "colab": {
      "provenance": [],
      "authorship_tag": "ABX9TyMR/4Y6cm1AmtwcIGjYQYuR",
      "include_colab_link": true
    },
    "kernelspec": {
      "name": "python3",
      "display_name": "Python 3"
    },
    "language_info": {
      "name": "python"
    }
  },
  "cells": [
    {
      "cell_type": "markdown",
      "metadata": {
        "id": "view-in-github",
        "colab_type": "text"
      },
      "source": [
        "<a href=\"https://colab.research.google.com/github/bearanha/WoMakersCode/blob/main/01_WoMakersCode_Python_para_Dados.ipynb\" target=\"_parent\"><img src=\"https://colab.research.google.com/assets/colab-badge.svg\" alt=\"Open In Colab\"/></a>"
      ]
    },
    {
      "cell_type": "code",
      "source": [
        "import numpy as np\n"
      ],
      "metadata": {
        "id": "FxiDd0180VFH"
      },
      "execution_count": 1,
      "outputs": []
    },
    {
      "cell_type": "code",
      "source": [
        "l = [1, 2, 3, 4]\n",
        "arr1= np.array(l)"
      ],
      "metadata": {
        "id": "rl2H0cdq0a2G"
      },
      "execution_count": 3,
      "outputs": []
    },
    {
      "cell_type": "code",
      "source": [
        "arr1"
      ],
      "metadata": {
        "colab": {
          "base_uri": "https://localhost:8080/"
        },
        "id": "Du9Syq4w0rtA",
        "outputId": "cd812f82-e2f3-4ccc-b7ee-7c4b44935747"
      },
      "execution_count": 4,
      "outputs": [
        {
          "output_type": "execute_result",
          "data": {
            "text/plain": [
              "array([1, 2, 3, 4])"
            ]
          },
          "metadata": {},
          "execution_count": 4
        }
      ]
    },
    {
      "cell_type": "code",
      "source": [
        "np.zeros((2,2)) #o .zeros precisa de uma tupla\n",
        "# primeiro elemento da tupla é uma linha, e o segundo colunas"
      ],
      "metadata": {
        "colab": {
          "base_uri": "https://localhost:8080/"
        },
        "id": "GMHILUHW0uxh",
        "outputId": "4af19962-75c8-48b0-9819-6987d6fd6ff9"
      },
      "execution_count": 5,
      "outputs": [
        {
          "output_type": "execute_result",
          "data": {
            "text/plain": [
              "array([[0., 0.],\n",
              "       [0., 0.]])"
            ]
          },
          "metadata": {},
          "execution_count": 5
        }
      ]
    },
    {
      "cell_type": "code",
      "source": [
        "np.zeros((3,2))"
      ],
      "metadata": {
        "colab": {
          "base_uri": "https://localhost:8080/"
        },
        "id": "o_VRPSPw1dJu",
        "outputId": "510f2836-f30b-4818-b68e-ca8a7a01995b"
      },
      "execution_count": 6,
      "outputs": [
        {
          "output_type": "execute_result",
          "data": {
            "text/plain": [
              "array([[0., 0.],\n",
              "       [0., 0.],\n",
              "       [0., 0.]])"
            ]
          },
          "metadata": {},
          "execution_count": 6
        }
      ]
    },
    {
      "cell_type": "code",
      "source": [
        "list(range(0,3))"
      ],
      "metadata": {
        "colab": {
          "base_uri": "https://localhost:8080/"
        },
        "id": "cLXe1BbU1oSV",
        "outputId": "4d83c441-eac7-456f-9a4b-0b508936f2ab"
      },
      "execution_count": 7,
      "outputs": [
        {
          "output_type": "execute_result",
          "data": {
            "text/plain": [
              "[0, 1, 2]"
            ]
          },
          "metadata": {},
          "execution_count": 7
        }
      ]
    },
    {
      "cell_type": "code",
      "source": [
        "arr_range = np.arange(1,11)\n",
        "print (arr_range)\n",
        "type(arr_range) # tipo array"
      ],
      "metadata": {
        "colab": {
          "base_uri": "https://localhost:8080/"
        },
        "id": "OhcZuAUj1yuV",
        "outputId": "8725d09b-5738-459f-bac0-a0f55ac7fd00"
      },
      "execution_count": 11,
      "outputs": [
        {
          "output_type": "stream",
          "name": "stdout",
          "text": [
            "[ 1  2  3  4  5  6  7  8  9 10]\n"
          ]
        },
        {
          "output_type": "execute_result",
          "data": {
            "text/plain": [
              "numpy.ndarray"
            ]
          },
          "metadata": {},
          "execution_count": 11
        }
      ]
    },
    {
      "cell_type": "code",
      "source": [
        "np.random.random((6,3)) # também recebe tuplas\n",
        "# por quê random.random? Porque np.random - é um módulo - e dentro dele haverá vários métodos (.random, .randint)"
      ],
      "metadata": {
        "colab": {
          "base_uri": "https://localhost:8080/"
        },
        "id": "9b-gMu992PsH",
        "outputId": "4b1e0a35-4616-48cf-ef1d-cbaf28221a2b"
      },
      "execution_count": 15,
      "outputs": [
        {
          "output_type": "execute_result",
          "data": {
            "text/plain": [
              "array([[0.48847424, 0.36545782, 0.16037708],\n",
              "       [0.88080905, 0.74662132, 0.71283181],\n",
              "       [0.18779879, 0.33777635, 0.82630005],\n",
              "       [0.04731542, 0.50317623, 0.2572177 ],\n",
              "       [0.36209861, 0.17676533, 0.63043551],\n",
              "       [0.1622796 , 0.59140073, 0.16927338]])"
            ]
          },
          "metadata": {},
          "execution_count": 15
        }
      ]
    },
    {
      "cell_type": "markdown",
      "source": [],
      "metadata": {
        "id": "hFa7zJUo2Y3a"
      }
    },
    {
      "cell_type": "markdown",
      "source": [
        "## 2. Crie um array com valores inteiros 3 linhas e 5 colunas com valores aleatórios"
      ],
      "metadata": {
        "id": "RjajmGn754a3"
      }
    },
    {
      "cell_type": "code",
      "source": [
        "array_int = np.random.randint(10, 31, size=(3,5)) #primeiro argumento é o valor mínimo (argumento que pode ser ocultado e o segundo argumento é sempre o limite máximo. a tupla sempre se referirá ao tamanho (ou vc pode chamar um size=)\n",
        "array_int"
      ],
      "metadata": {
        "colab": {
          "base_uri": "https://localhost:8080/"
        },
        "id": "fT453q1Y5-EE",
        "outputId": "3d78b93c-a01d-4445-abe8-90aa873988c8"
      },
      "execution_count": 19,
      "outputs": [
        {
          "output_type": "execute_result",
          "data": {
            "text/plain": [
              "array([[18, 12, 10, 10, 22],\n",
              "       [12, 30, 26, 12, 24],\n",
              "       [14, 18, 16, 17, 27]])"
            ]
          },
          "metadata": {},
          "execution_count": 19
        }
      ]
    },
    {
      "cell_type": "code",
      "source": [
        "array_4 = np.arange(0, 92, 3) # aqui, o terceiro argumento do módulo np.range diz respeito ao valor que deve ser contado entre o número anterior e o próximo\n",
        "array_4"
      ],
      "metadata": {
        "colab": {
          "base_uri": "https://localhost:8080/"
        },
        "id": "PZnYHY0T7KGY",
        "outputId": "c2c07776-3a82-497c-fe92-b3eecdcbc932"
      },
      "execution_count": 23,
      "outputs": [
        {
          "output_type": "execute_result",
          "data": {
            "text/plain": [
              "array([ 0,  3,  6,  9, 12, 15, 18, 21, 24, 27, 30, 33, 36, 39, 42, 45, 48,\n",
              "       51, 54, 57, 60, 63, 66, 69, 72, 75, 78, 81, 84, 87, 90])"
            ]
          },
          "metadata": {},
          "execution_count": 23
        }
      ]
    },
    {
      "cell_type": "code",
      "source": [
        "arr1_2d = np.array([[1, 2], [3, 4]])\n",
        "arr2_2d = np.array([[5, 6], [7, 8]])\n",
        "arr3_2d = np.array([[9, 0], [1, 2]])\n",
        "\n",
        "arr_3d = np.array([arr1_2d, arr2_2d, arr3_2d]) # array de três dimensões. meio que o máximo, uma vez que não temos 4 dimensões, mas existe. principalmente se vc for lidar com redes neurais\n",
        "arr_3d"
      ],
      "metadata": {
        "colab": {
          "base_uri": "https://localhost:8080/"
        },
        "id": "XFWvyp6ZAC49",
        "outputId": "780d7c1c-b67f-447e-d551-0d875830772f"
      },
      "execution_count": 27,
      "outputs": [
        {
          "output_type": "execute_result",
          "data": {
            "text/plain": [
              "array([[[ 1,  2],\n",
              "        [ 3,  4],\n",
              "        [10, 11]],\n",
              "\n",
              "       [[ 5,  6],\n",
              "        [ 7,  8],\n",
              "        [10, 11]],\n",
              "\n",
              "       [[ 9,  0],\n",
              "        [ 1,  2],\n",
              "        [10, 11]]])"
            ]
          },
          "metadata": {},
          "execution_count": 27
        }
      ]
    }
  ]
}
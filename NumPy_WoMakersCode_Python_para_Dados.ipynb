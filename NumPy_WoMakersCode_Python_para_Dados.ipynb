{
  "nbformat": 4,
  "nbformat_minor": 0,
  "metadata": {
    "colab": {
      "provenance": [],
      "authorship_tag": "ABX9TyMl+DTrlMfi9Hc3SSf/NRZG",
      "include_colab_link": true
    },
    "kernelspec": {
      "name": "python3",
      "display_name": "Python 3"
    },
    "language_info": {
      "name": "python"
    }
  },
  "cells": [
    {
      "cell_type": "markdown",
      "metadata": {
        "id": "view-in-github",
        "colab_type": "text"
      },
      "source": [
        "<a href=\"https://colab.research.google.com/github/bearanha/WoMakersCode/blob/main/NumPy_WoMakersCode_Python_para_Dados.ipynb\" target=\"_parent\"><img src=\"https://colab.research.google.com/assets/colab-badge.svg\" alt=\"Open In Colab\"/></a>"
      ]
    },
    {
      "cell_type": "code",
      "source": [
        "import numpy as np\n"
      ],
      "metadata": {
        "id": "FxiDd0180VFH"
      },
      "execution_count": 5,
      "outputs": []
    },
    {
      "cell_type": "code",
      "source": [
        "l = [1, 2, 3, 4]\n",
        "arr1= np.array(l)"
      ],
      "metadata": {
        "id": "rl2H0cdq0a2G"
      },
      "execution_count": 6,
      "outputs": []
    },
    {
      "cell_type": "code",
      "source": [
        "arr1"
      ],
      "metadata": {
        "colab": {
          "base_uri": "https://localhost:8080/"
        },
        "id": "Du9Syq4w0rtA",
        "outputId": "c662de04-ba1f-42b1-b445-d51baee3d49e"
      },
      "execution_count": 7,
      "outputs": [
        {
          "output_type": "execute_result",
          "data": {
            "text/plain": [
              "array([1, 2, 3, 4])"
            ]
          },
          "metadata": {},
          "execution_count": 7
        }
      ]
    },
    {
      "cell_type": "code",
      "source": [
        "np.zeros((2,2)) #o .zeros precisa de uma tupla\n",
        "# primeiro elemento da tupla é uma linha, e o segundo colunas"
      ],
      "metadata": {
        "colab": {
          "base_uri": "https://localhost:8080/"
        },
        "id": "GMHILUHW0uxh",
        "outputId": "695f1baf-975c-4bca-a8ae-935a2f5e0c90"
      },
      "execution_count": 8,
      "outputs": [
        {
          "output_type": "execute_result",
          "data": {
            "text/plain": [
              "array([[0., 0.],\n",
              "       [0., 0.]])"
            ]
          },
          "metadata": {},
          "execution_count": 8
        }
      ]
    },
    {
      "cell_type": "code",
      "source": [
        "np.zeros((3,2))"
      ],
      "metadata": {
        "colab": {
          "base_uri": "https://localhost:8080/"
        },
        "id": "o_VRPSPw1dJu",
        "outputId": "f6b183f3-c562-4a16-f469-a8820898ac10"
      },
      "execution_count": 9,
      "outputs": [
        {
          "output_type": "execute_result",
          "data": {
            "text/plain": [
              "array([[0., 0.],\n",
              "       [0., 0.],\n",
              "       [0., 0.]])"
            ]
          },
          "metadata": {},
          "execution_count": 9
        }
      ]
    },
    {
      "cell_type": "code",
      "source": [
        "list(range(0,3))"
      ],
      "metadata": {
        "colab": {
          "base_uri": "https://localhost:8080/"
        },
        "id": "cLXe1BbU1oSV",
        "outputId": "978b5a1d-90de-4f51-b392-53c8784a0702"
      },
      "execution_count": 10,
      "outputs": [
        {
          "output_type": "execute_result",
          "data": {
            "text/plain": [
              "[0, 1, 2]"
            ]
          },
          "metadata": {},
          "execution_count": 10
        }
      ]
    },
    {
      "cell_type": "code",
      "source": [
        "arr_range = np.arange(1,11)\n",
        "print (arr_range)\n",
        "type(arr_range) # tipo array"
      ],
      "metadata": {
        "colab": {
          "base_uri": "https://localhost:8080/"
        },
        "id": "OhcZuAUj1yuV",
        "outputId": "ade7c7fd-6db8-43f9-db39-862282ad8b93"
      },
      "execution_count": 11,
      "outputs": [
        {
          "output_type": "stream",
          "name": "stdout",
          "text": [
            "[ 1  2  3  4  5  6  7  8  9 10]\n"
          ]
        },
        {
          "output_type": "execute_result",
          "data": {
            "text/plain": [
              "numpy.ndarray"
            ]
          },
          "metadata": {},
          "execution_count": 11
        }
      ]
    },
    {
      "cell_type": "code",
      "source": [
        "np.random.random((6,3)) # também recebe tuplas\n",
        "# por quê random.random? Porque np.random - é um módulo - e dentro dele haverá vários métodos (.random, .randint)"
      ],
      "metadata": {
        "colab": {
          "base_uri": "https://localhost:8080/"
        },
        "id": "9b-gMu992PsH",
        "outputId": "2bb005bc-67a4-4451-fb92-da440e866ba7"
      },
      "execution_count": 12,
      "outputs": [
        {
          "output_type": "execute_result",
          "data": {
            "text/plain": [
              "array([[0.64701357, 0.66452547, 0.90298519],\n",
              "       [0.61216042, 0.99795268, 0.41818096],\n",
              "       [0.80790847, 0.45198232, 0.08028198],\n",
              "       [0.57316437, 0.01842555, 0.89371185],\n",
              "       [0.50004026, 0.97289527, 0.29081204],\n",
              "       [0.17897338, 0.48765225, 0.04765051]])"
            ]
          },
          "metadata": {},
          "execution_count": 12
        }
      ]
    },
    {
      "cell_type": "markdown",
      "source": [],
      "metadata": {
        "id": "hFa7zJUo2Y3a"
      }
    },
    {
      "cell_type": "markdown",
      "source": [
        "## 2. Crie um array com valores inteiros 3 linhas e 5 colunas com valores aleatórios"
      ],
      "metadata": {
        "id": "RjajmGn754a3"
      }
    },
    {
      "cell_type": "code",
      "source": [
        "array_int = np.random.randint(10, 31, size=(3,5)) #primeiro argumento é o valor mínimo (argumento que pode ser ocultado e o segundo argumento é sempre o limite máximo. a tupla sempre se referirá ao tamanho (ou vc pode chamar um size=)\n",
        "array_int"
      ],
      "metadata": {
        "colab": {
          "base_uri": "https://localhost:8080/"
        },
        "id": "fT453q1Y5-EE",
        "outputId": "13580735-0d5a-464a-a2ec-1078b2f8f72a"
      },
      "execution_count": 13,
      "outputs": [
        {
          "output_type": "execute_result",
          "data": {
            "text/plain": [
              "array([[18, 20, 28, 14, 19],\n",
              "       [26, 24, 17, 17, 24],\n",
              "       [22, 16, 17, 20, 24]])"
            ]
          },
          "metadata": {},
          "execution_count": 13
        }
      ]
    },
    {
      "cell_type": "code",
      "source": [
        "array_4 = np.arange(0, 92, 3) # aqui, o terceiro argumento do módulo np.range diz respeito ao valor que deve ser contado entre o número anterior e o próximo\n",
        "array_4"
      ],
      "metadata": {
        "colab": {
          "base_uri": "https://localhost:8080/"
        },
        "id": "PZnYHY0T7KGY",
        "outputId": "3f8b3661-b1ce-45c7-ae18-b3ac1240626e"
      },
      "execution_count": 14,
      "outputs": [
        {
          "output_type": "execute_result",
          "data": {
            "text/plain": [
              "array([ 0,  3,  6,  9, 12, 15, 18, 21, 24, 27, 30, 33, 36, 39, 42, 45, 48,\n",
              "       51, 54, 57, 60, 63, 66, 69, 72, 75, 78, 81, 84, 87, 90])"
            ]
          },
          "metadata": {},
          "execution_count": 14
        }
      ]
    },
    {
      "cell_type": "code",
      "source": [
        "arr1_2d = np.array([[1, 2], [3, 4]])\n",
        "arr2_2d = np.array([[5, 6], [7, 8]])\n",
        "arr3_2d = np.array([[9, 0], [1, 2]])\n",
        "\n",
        "arr_3d = np.array([arr1_2d, arr2_2d, arr3_2d]) # array de três dimensões. meio que o máximo, uma vez que não temos 4 dimensões, mas existe. principalmente se vc for lidar com redes neurais\n",
        "print(arr_3d)\n",
        "print('')\n",
        "print('*'*30)\n",
        "print('')\n",
        "other_3d = np.array([[[1,2], [3,4]],[[5,6], [7,8]]])\n",
        "print(other_3d)"
      ],
      "metadata": {
        "colab": {
          "base_uri": "https://localhost:8080/"
        },
        "id": "XFWvyp6ZAC49",
        "outputId": "9b56f4e3-e0b7-4ac8-b452-dd2d898356f3"
      },
      "execution_count": 88,
      "outputs": [
        {
          "output_type": "stream",
          "name": "stdout",
          "text": [
            "[[[1 2]\n",
            "  [3 4]]\n",
            "\n",
            " [[5 6]\n",
            "  [7 8]]\n",
            "\n",
            " [[9 0]\n",
            "  [1 2]]]\n",
            "\n",
            "******************************\n",
            "\n",
            "[[[1 2]\n",
            "  [3 4]]\n",
            "\n",
            " [[5 6]\n",
            "  [7 8]]]\n"
          ]
        }
      ]
    },
    {
      "cell_type": "markdown",
      "source": [
        "## Arrays e suas Dimensões\n"
      ],
      "metadata": {
        "id": "me47TmbAfmH7"
      }
    },
    {
      "cell_type": "code",
      "source": [
        "# SHAPE\n",
        "arr = np.zeros((2,4))\n",
        "arr"
      ],
      "metadata": {
        "colab": {
          "base_uri": "https://localhost:8080/"
        },
        "id": "eaOWGUFbfsNF",
        "outputId": "6894d9dd-8ed5-4a2e-bc8f-c0698afa6de9"
      },
      "execution_count": 16,
      "outputs": [
        {
          "output_type": "execute_result",
          "data": {
            "text/plain": [
              "array([[0., 0., 0., 0.],\n",
              "       [0., 0., 0., 0.]])"
            ]
          },
          "metadata": {},
          "execution_count": 16
        }
      ]
    },
    {
      "cell_type": "code",
      "source": [
        "arr.shape # descreve a array"
      ],
      "metadata": {
        "colab": {
          "base_uri": "https://localhost:8080/"
        },
        "id": "t_jBeJN4gf-h",
        "outputId": "f9951bf3-b448-4390-f69b-6936669abc85"
      },
      "execution_count": 17,
      "outputs": [
        {
          "output_type": "execute_result",
          "data": {
            "text/plain": [
              "(2, 4)"
            ]
          },
          "metadata": {},
          "execution_count": 17
        }
      ]
    },
    {
      "cell_type": "code",
      "source": [
        "arr_2D = np.array([[1,2,3,0],[4,5,6,0], [9,9,9,9]])\n",
        "# esse array terá três linhas e quatro colunas - cada lista que se passa é uma linha\n",
        "arr_2D"
      ],
      "metadata": {
        "colab": {
          "base_uri": "https://localhost:8080/"
        },
        "id": "V2P2yiShhCKn",
        "outputId": "30843a32-7250-4170-a05c-94a59389af07"
      },
      "execution_count": 18,
      "outputs": [
        {
          "output_type": "execute_result",
          "data": {
            "text/plain": [
              "array([[1, 2, 3, 0],\n",
              "       [4, 5, 6, 0],\n",
              "       [9, 9, 9, 9]])"
            ]
          },
          "metadata": {},
          "execution_count": 18
        }
      ]
    },
    {
      "cell_type": "code",
      "source": [
        "arr_2D.flatten()"
      ],
      "metadata": {
        "colab": {
          "base_uri": "https://localhost:8080/"
        },
        "id": "UJGmPefpiPNo",
        "outputId": "8a15f05e-cfcd-46e0-9d5d-cedeafc8b963"
      },
      "execution_count": 19,
      "outputs": [
        {
          "output_type": "execute_result",
          "data": {
            "text/plain": [
              "array([1, 2, 3, 0, 4, 5, 6, 0, 9, 9, 9, 9])"
            ]
          },
          "metadata": {},
          "execution_count": 19
        }
      ]
    },
    {
      "cell_type": "code",
      "source": [
        "arr2_2D = np.array([[3,4,2], [8, 11, 5]])\n",
        "arr2_2D"
      ],
      "metadata": {
        "colab": {
          "base_uri": "https://localhost:8080/"
        },
        "id": "1CAcymeejX-a",
        "outputId": "50455a61-29a1-410b-8883-1960fc1e3fe5"
      },
      "execution_count": 20,
      "outputs": [
        {
          "output_type": "execute_result",
          "data": {
            "text/plain": [
              "array([[ 3,  4,  2],\n",
              "       [ 8, 11,  5]])"
            ]
          },
          "metadata": {},
          "execution_count": 20
        }
      ]
    },
    {
      "cell_type": "code",
      "source": [
        "arr2_2D.reshape((3,2)) # passa uma tupla como parâmetro"
      ],
      "metadata": {
        "colab": {
          "base_uri": "https://localhost:8080/"
        },
        "id": "sxmDPHLXjmJF",
        "outputId": "38e72d12-c0cc-45b7-e9c1-3b52475a8677"
      },
      "execution_count": 21,
      "outputs": [
        {
          "output_type": "execute_result",
          "data": {
            "text/plain": [
              "array([[ 3,  4],\n",
              "       [ 2,  8],\n",
              "       [11,  5]])"
            ]
          },
          "metadata": {},
          "execution_count": 21
        }
      ]
    },
    {
      "cell_type": "markdown",
      "source": [
        "## Máscaras e Filtragens"
      ],
      "metadata": {
        "id": "6cMDvVlReLV4"
      }
    },
    {
      "cell_type": "code",
      "source": [
        "arr1 = np.arange(1,11)\n",
        "arr1"
      ],
      "metadata": {
        "colab": {
          "base_uri": "https://localhost:8080/"
        },
        "id": "RFIfLavmeJ-C",
        "outputId": "5a714094-9473-46db-9bc7-68ef6b7b992c"
      },
      "execution_count": 22,
      "outputs": [
        {
          "output_type": "execute_result",
          "data": {
            "text/plain": [
              "array([ 1,  2,  3,  4,  5,  6,  7,  8,  9, 10])"
            ]
          },
          "metadata": {},
          "execution_count": 22
        }
      ]
    },
    {
      "cell_type": "code",
      "source": [
        "mask = arr1 % 2 == 0 # uma condicional é inserida\n",
        "mask"
      ],
      "metadata": {
        "colab": {
          "base_uri": "https://localhost:8080/"
        },
        "id": "_YBLHNv1fMR2",
        "outputId": "a124e883-2c74-4052-9238-b707a293b50d"
      },
      "execution_count": 23,
      "outputs": [
        {
          "output_type": "execute_result",
          "data": {
            "text/plain": [
              "array([False,  True, False,  True, False,  True, False,  True, False,\n",
              "        True])"
            ]
          },
          "metadata": {},
          "execution_count": 23
        }
      ]
    },
    {
      "cell_type": "code",
      "source": [
        "arr1[mask] #Fancy Index - retorna os valores do array quando passada a máscara"
      ],
      "metadata": {
        "colab": {
          "base_uri": "https://localhost:8080/"
        },
        "id": "HLXUsFAKfVoq",
        "outputId": "35df5c6e-61b9-43fd-f129-b52fc9a78261"
      },
      "execution_count": 24,
      "outputs": [
        {
          "output_type": "execute_result",
          "data": {
            "text/plain": [
              "array([ 2,  4,  6,  8, 10])"
            ]
          },
          "metadata": {},
          "execution_count": 24
        }
      ]
    },
    {
      "cell_type": "code",
      "source": [
        "np.where(mask) # o np.where retorna os indexes onde estão posicionados aqueles elementos do arraay que tiveram a condição true"
      ],
      "metadata": {
        "colab": {
          "base_uri": "https://localhost:8080/"
        },
        "id": "mKLgS2MYfpoW",
        "outputId": "c4d0f13b-0122-4891-b4d4-45cd7ff250a7"
      },
      "execution_count": 25,
      "outputs": [
        {
          "output_type": "execute_result",
          "data": {
            "text/plain": [
              "(array([1, 3, 5, 7, 9]),)"
            ]
          },
          "metadata": {},
          "execution_count": 25
        }
      ]
    },
    {
      "cell_type": "code",
      "source": [
        "cartela_bingo = np.random.randint(10, 31, size=(4,4))\n",
        "cartela_bingo"
      ],
      "metadata": {
        "id": "KAYvU6Kzgsgu",
        "colab": {
          "base_uri": "https://localhost:8080/"
        },
        "outputId": "42f66f64-5cc3-4766-8f4c-70be07ec90af"
      },
      "execution_count": 26,
      "outputs": [
        {
          "output_type": "execute_result",
          "data": {
            "text/plain": [
              "array([[30, 13, 23, 15],\n",
              "       [26, 20, 24, 27],\n",
              "       [28, 11, 30, 30],\n",
              "       [22, 20, 10, 27]])"
            ]
          },
          "metadata": {},
          "execution_count": 26
        }
      ]
    },
    {
      "cell_type": "code",
      "source": [
        "np.where(cartela_bingo % 3 == 0)\n",
        "# Aqui o primeiro array pintado localiza linha e o segundo localiza coluna (por exemplo, linha 1 e coluna 2 aponta para 15)"
      ],
      "metadata": {
        "colab": {
          "base_uri": "https://localhost:8080/"
        },
        "id": "6sK4vn9Ej1uy",
        "outputId": "907e6626-b805-4bd6-d95f-d5a6a152ec5d"
      },
      "execution_count": 27,
      "outputs": [
        {
          "output_type": "execute_result",
          "data": {
            "text/plain": [
              "(array([0, 0, 1, 1, 2, 2, 3]), array([0, 3, 2, 3, 2, 3, 3]))"
            ]
          },
          "metadata": {},
          "execution_count": 27
        }
      ]
    },
    {
      "cell_type": "code",
      "source": [
        "np.where(cartela_bingo % 3 == 0)"
      ],
      "metadata": {
        "colab": {
          "base_uri": "https://localhost:8080/"
        },
        "outputId": "1622b470-1029-4a0d-b9c8-c4eeae850b1e",
        "id": "pTFQZhu-pHox"
      },
      "execution_count": 28,
      "outputs": [
        {
          "output_type": "execute_result",
          "data": {
            "text/plain": [
              "(array([0, 0, 1, 1, 2, 2, 3]), array([0, 3, 2, 3, 2, 3, 3]))"
            ]
          },
          "metadata": {},
          "execution_count": 28
        }
      ]
    },
    {
      "cell_type": "code",
      "source": [
        "np.where(cartela_bingo % 3 == 0, '', cartela_bingo)\n",
        "# 2o argumento se refere pelo que será substituído o elemento caso a condição seja true e\n",
        "# 3o argumento se refere à substituição no caso da condição ser false -\n",
        "# Neste exemplo, quando se coloca o nome da variável em teste, significa que em caso negativo da comparação, nada deve ser feito\n",
        "# Uma vez utilizada string vazias para a substituição, todo o array se torna tipo string"
      ],
      "metadata": {
        "colab": {
          "base_uri": "https://localhost:8080/"
        },
        "id": "F94CHYaSIJBx",
        "outputId": "6d21998b-c84a-4139-eb74-07f9eefe7287"
      },
      "execution_count": 29,
      "outputs": [
        {
          "output_type": "execute_result",
          "data": {
            "text/plain": [
              "array([['', '13', '23', ''],\n",
              "       ['26', '20', '', ''],\n",
              "       ['28', '11', '', ''],\n",
              "       ['22', '20', '10', '']], dtype='<U21')"
            ]
          },
          "metadata": {},
          "execution_count": 29
        }
      ]
    },
    {
      "cell_type": "markdown",
      "source": [
        "## Adicionando e Removendo Dados do Array"
      ],
      "metadata": {
        "id": "bSAwTFVHhkeB"
      }
    },
    {
      "cell_type": "code",
      "source": [
        "# CONCATENANDO LINHAS\n",
        "arrl1 = np.random.randint(10, size=(3,2))\n",
        "arrl1"
      ],
      "metadata": {
        "colab": {
          "base_uri": "https://localhost:8080/"
        },
        "id": "li_fi2Twht-i",
        "outputId": "e249e69f-3df4-4585-feac-208353f50437"
      },
      "execution_count": 30,
      "outputs": [
        {
          "output_type": "execute_result",
          "data": {
            "text/plain": [
              "array([[6, 2],\n",
              "       [4, 3],\n",
              "       [6, 0]])"
            ]
          },
          "metadata": {},
          "execution_count": 30
        }
      ]
    },
    {
      "cell_type": "code",
      "source": [
        "arrl2 = np.array([['Peras', 'Morangos']]) # é dtype='<U8' porque a maior string do array possui 8 caracteres\n",
        "# prestar atenção que, para fechar o array que tenha 1 linha e duas colunas, como neste caso, é necessário colocar dois [[]]. Caso contrário, ele considera que só existe uma dimensão de uma linha\n",
        "arrl2\n",
        "\n",
        "# escrever \"arrl2 = np.array([['Peras', 'Morangos']])\" - com dois [[]] -, é o mesmo que \"arrl2 = np.array(['Peras', 'Morangos']).reshape((1,2))\""
      ],
      "metadata": {
        "colab": {
          "base_uri": "https://localhost:8080/"
        },
        "id": "GMwlYjmliV-A",
        "outputId": "9394990f-79a8-4e84-aafa-7f7b6b79671d"
      },
      "execution_count": 31,
      "outputs": [
        {
          "output_type": "execute_result",
          "data": {
            "text/plain": [
              "array([['Peras', 'Morangos']], dtype='<U8')"
            ]
          },
          "metadata": {},
          "execution_count": 31
        }
      ]
    },
    {
      "cell_type": "code",
      "source": [
        "np.concatenate((arrl1, arrl2))"
      ],
      "metadata": {
        "colab": {
          "base_uri": "https://localhost:8080/"
        },
        "id": "fD7i8QtLitOh",
        "outputId": "d03856ea-c82b-448a-b3e4-58153695d776"
      },
      "execution_count": 32,
      "outputs": [
        {
          "output_type": "execute_result",
          "data": {
            "text/plain": [
              "array([['6', '2'],\n",
              "       ['4', '3'],\n",
              "       ['6', '0'],\n",
              "       ['Peras', 'Morangos']], dtype='<U21')"
            ]
          },
          "metadata": {},
          "execution_count": 32
        }
      ]
    },
    {
      "cell_type": "code",
      "source": [
        "# CONCATENANDO COLUNAS\n",
        "\n",
        "arrc1 = np.array(['Uva', 'Abacaxi', 'Laranja']).reshape((3,1)) # o 'reshape' é necessário para que o shape entenda que se trata apenas de uma única coluna (3,1) e não de apenas 3 linhas (3)\n",
        "arrc1"
      ],
      "metadata": {
        "colab": {
          "base_uri": "https://localhost:8080/"
        },
        "id": "Mh9ERW-InhSz",
        "outputId": "e358cd44-6616-4c34-f687-be29ce48cc13"
      },
      "execution_count": 33,
      "outputs": [
        {
          "output_type": "execute_result",
          "data": {
            "text/plain": [
              "array([['Uva'],\n",
              "       ['Abacaxi'],\n",
              "       ['Laranja']], dtype='<U7')"
            ]
          },
          "metadata": {},
          "execution_count": 33
        }
      ]
    },
    {
      "cell_type": "code",
      "source": [
        "fruits_array = np.concatenate((arrl1, arrc1), axis = 1) # axis = 0 linhas; axis = 1, colunas\n",
        "fruits_array"
      ],
      "metadata": {
        "colab": {
          "base_uri": "https://localhost:8080/"
        },
        "id": "zUCL8RBNpYD6",
        "outputId": "f85368c8-992a-420b-b2a9-e93a979073f0"
      },
      "execution_count": 34,
      "outputs": [
        {
          "output_type": "execute_result",
          "data": {
            "text/plain": [
              "array([['6', '2', 'Uva'],\n",
              "       ['4', '3', 'Abacaxi'],\n",
              "       ['6', '0', 'Laranja']], dtype='<U21')"
            ]
          },
          "metadata": {},
          "execution_count": 34
        }
      ]
    },
    {
      "cell_type": "code",
      "source": [
        "# NP.DELETE\n",
        "np.delete(fruits_array, 1, axis = 0)"
      ],
      "metadata": {
        "colab": {
          "base_uri": "https://localhost:8080/"
        },
        "id": "FSizLgDouQhx",
        "outputId": "6b37f1d3-a8eb-49d9-c387-4d651a116dd4"
      },
      "execution_count": 35,
      "outputs": [
        {
          "output_type": "execute_result",
          "data": {
            "text/plain": [
              "array([['6', '2', 'Uva'],\n",
              "       ['6', '0', 'Laranja']], dtype='<U21')"
            ]
          },
          "metadata": {},
          "execution_count": 35
        }
      ]
    },
    {
      "cell_type": "code",
      "source": [
        "np.delete(fruits_array, 2, axis = 1)\n",
        "\n",
        "# Caso delete sem axis, ela se torna um array de uma linha\n"
      ],
      "metadata": {
        "colab": {
          "base_uri": "https://localhost:8080/"
        },
        "id": "Q8iq6C20vEFL",
        "outputId": "094b985d-845a-4093-852a-941e9acd869a"
      },
      "execution_count": 36,
      "outputs": [
        {
          "output_type": "execute_result",
          "data": {
            "text/plain": [
              "array([['6', '2'],\n",
              "       ['4', '3'],\n",
              "       ['6', '0']], dtype='<U21')"
            ]
          },
          "metadata": {},
          "execution_count": 36
        }
      ]
    },
    {
      "cell_type": "markdown",
      "source": [
        "## Cálculos com Array"
      ],
      "metadata": {
        "id": "JWXmY6TUDnU_"
      }
    },
    {
      "cell_type": "code",
      "source": [
        "# SOMAR .sum()\n",
        "arr_sum = np.array([[1,2,3,0],[4,5,6,0], [9,9,9,9]])\n",
        "arr_sum"
      ],
      "metadata": {
        "colab": {
          "base_uri": "https://localhost:8080/"
        },
        "id": "-q7RQquFA3Ld",
        "outputId": "0c4785bf-c087-42f7-c325-31a47b68022c"
      },
      "execution_count": 44,
      "outputs": [
        {
          "output_type": "execute_result",
          "data": {
            "text/plain": [
              "array([[1, 2, 3, 0],\n",
              "       [4, 5, 6, 0],\n",
              "       [9, 9, 9, 9]])"
            ]
          },
          "metadata": {},
          "execution_count": 44
        }
      ]
    },
    {
      "cell_type": "code",
      "source": [
        "arr_sum.sum()"
      ],
      "metadata": {
        "colab": {
          "base_uri": "https://localhost:8080/"
        },
        "id": "UqaoOdfoDhN3",
        "outputId": "3f01e725-5b61-48f5-c056-9f07bac33618"
      },
      "execution_count": 46,
      "outputs": [
        {
          "output_type": "execute_result",
          "data": {
            "text/plain": [
              "57"
            ]
          },
          "metadata": {},
          "execution_count": 46
        }
      ]
    },
    {
      "cell_type": "code",
      "source": [
        "# SOMAR LINHAS\n",
        "arr_sum.sum(axis=0) # estranhamente soma a linha como somaríamos colunas"
      ],
      "metadata": {
        "colab": {
          "base_uri": "https://localhost:8080/"
        },
        "id": "c0SNy0bFDxVn",
        "outputId": "afb3a6e2-615d-49de-a5dc-8494cd10e52e"
      },
      "execution_count": 47,
      "outputs": [
        {
          "output_type": "execute_result",
          "data": {
            "text/plain": [
              "array([14, 16, 18,  9])"
            ]
          },
          "metadata": {},
          "execution_count": 47
        }
      ]
    },
    {
      "cell_type": "code",
      "source": [
        "# SOMAR COLUNAS\n",
        "arr_sum.sum(axis=1) # estranhamente soma a coluna como somaríamos linhas"
      ],
      "metadata": {
        "colab": {
          "base_uri": "https://localhost:8080/"
        },
        "id": "GZn1hL6sEeGA",
        "outputId": "c6e1411c-7d42-4819-8ef8-fc73f36d9cf8"
      },
      "execution_count": 49,
      "outputs": [
        {
          "output_type": "execute_result",
          "data": {
            "text/plain": [
              "array([ 6, 15, 36])"
            ]
          },
          "metadata": {},
          "execution_count": 49
        }
      ]
    },
    {
      "cell_type": "markdown",
      "source": [
        "## A Explicação para essa coisa estranha\n",
        "\n",
        "Os dados que temos são a contabilização de acidentes de cada cliente em cada ano por uma empresa de seguros de carros.\n",
        "\n",
        "As colunas representam cada cliente, enquanto as linhas se referem ao período de contratação. Ao somar colunas (axis = 1) teríamos a soma de todos os acidentes no ano. Enquanto se somarmos as linhas (axis = 0), teremos quantos acidentes cada cliente teve em todo tempo de contratação (do ano 1 ao 5)"
      ],
      "metadata": {
        "id": "IC38d0_7ILcL"
      }
    },
    {
      "cell_type": "code",
      "source": [
        "arr_sum.min()"
      ],
      "metadata": {
        "colab": {
          "base_uri": "https://localhost:8080/"
        },
        "id": "MlBXoOY9IOLz",
        "outputId": "358d8424-d882-456d-d284-8d2a3e79ab80"
      },
      "execution_count": 51,
      "outputs": [
        {
          "output_type": "execute_result",
          "data": {
            "text/plain": [
              "0"
            ]
          },
          "metadata": {},
          "execution_count": 51
        }
      ]
    },
    {
      "cell_type": "code",
      "source": [
        "arr_sum.max()"
      ],
      "metadata": {
        "colab": {
          "base_uri": "https://localhost:8080/"
        },
        "id": "RD7OwwboJFrs",
        "outputId": "e0d8c3ab-49a7-4c0d-9e6e-3b9da2259a1c"
      },
      "execution_count": 52,
      "outputs": [
        {
          "output_type": "execute_result",
          "data": {
            "text/plain": [
              "9"
            ]
          },
          "metadata": {},
          "execution_count": 52
        }
      ]
    },
    {
      "cell_type": "code",
      "source": [
        "arr_sum.max(axis = 0)"
      ],
      "metadata": {
        "colab": {
          "base_uri": "https://localhost:8080/"
        },
        "id": "o9goEK2vJIoZ",
        "outputId": "f36a72a4-361b-4a41-e103-a52a6bbe8a22"
      },
      "execution_count": 54,
      "outputs": [
        {
          "output_type": "execute_result",
          "data": {
            "text/plain": [
              "array([9, 9, 9, 9])"
            ]
          },
          "metadata": {},
          "execution_count": 54
        }
      ]
    },
    {
      "cell_type": "code",
      "source": [
        "arr_sum.max(axis = 1)"
      ],
      "metadata": {
        "colab": {
          "base_uri": "https://localhost:8080/"
        },
        "id": "BwWNfrMzJaCN",
        "outputId": "b01397fb-191d-4096-a3b3-dab2cc8c0479"
      },
      "execution_count": 56,
      "outputs": [
        {
          "output_type": "execute_result",
          "data": {
            "text/plain": [
              "array([3, 6, 9])"
            ]
          },
          "metadata": {},
          "execution_count": 56
        }
      ]
    },
    {
      "cell_type": "code",
      "source": [
        "# MÉDIA\n",
        "media_total = arr_sum.mean()\n",
        "print(media_total)\n",
        "print('*********')\n",
        "\n",
        "media_linha = arr_sum.mean(axis = 0) # eg.: média do ano 05\n",
        "print(media_linha)\n",
        "print('*********')\n",
        "\n",
        "media_coluna = arr_sum.mean(axis = 1) # eg.: média do cliente 1\n",
        "print(media_coluna)"
      ],
      "metadata": {
        "colab": {
          "base_uri": "https://localhost:8080/"
        },
        "id": "8YhWsvQ4JsU_",
        "outputId": "8a38cd1b-8a72-4279-b13e-a9fded94a1dc"
      },
      "execution_count": 62,
      "outputs": [
        {
          "output_type": "stream",
          "name": "stdout",
          "text": [
            "4.75\n",
            "*********\n",
            "[4.66666667 5.33333333 6.         3.        ]\n",
            "*********\n",
            "[1.5  3.75 9.  ]\n"
          ]
        }
      ]
    },
    {
      "cell_type": "code",
      "source": [
        "# KEEPDIMS - mantém as mesmas dimensões\n",
        "# MÉDIA\n",
        "media_total = arr_sum.mean()\n",
        "print(media_total)\n",
        "print('*********')\n",
        "\n",
        "media_linha = arr_sum.mean(axis = 0, keepdims = True) # eg.: média do ano 05\n",
        "print(media_linha)\n",
        "print('*********')\n",
        "\n",
        "media_coluna = arr_sum.mean(axis = 1, keepdims = True) # eg.: média do cliente 1\n",
        "print(media_coluna)"
      ],
      "metadata": {
        "colab": {
          "base_uri": "https://localhost:8080/"
        },
        "id": "HZ751sZKJzh4",
        "outputId": "2bcf500f-cbdf-421f-ec16-d7b5b86762da"
      },
      "execution_count": 65,
      "outputs": [
        {
          "output_type": "stream",
          "name": "stdout",
          "text": [
            "4.75\n",
            "*********\n",
            "[[4.66666667 5.33333333 6.         3.        ]]\n",
            "*********\n",
            "[[1.5 ]\n",
            " [3.75]\n",
            " [9.  ]]\n"
          ]
        }
      ]
    },
    {
      "cell_type": "code",
      "source": [
        "# SOMA CUMULATIVA - cumsum\n",
        "# quase uma soma fibonacci - cada dado se torna a soma do atual com o anterior\n",
        "print(arr_sum)\n",
        "print('*********')\n",
        "arr_sum.cumsum(axis = 0)"
      ],
      "metadata": {
        "colab": {
          "base_uri": "https://localhost:8080/"
        },
        "id": "KAflPAq1Lpwd",
        "outputId": "28296c1d-aea2-4cac-f2dc-e00a361c5a5d"
      },
      "execution_count": 70,
      "outputs": [
        {
          "output_type": "stream",
          "name": "stdout",
          "text": [
            "[[1 2 3 0]\n",
            " [4 5 6 0]\n",
            " [9 9 9 9]]\n",
            "*********\n"
          ]
        },
        {
          "output_type": "execute_result",
          "data": {
            "text/plain": [
              "array([[ 1,  2,  3,  0],\n",
              "       [ 5,  7,  9,  0],\n",
              "       [14, 16, 18,  9]])"
            ]
          },
          "metadata": {},
          "execution_count": 70
        }
      ]
    },
    {
      "cell_type": "code",
      "source": [
        "print(arr_sum)\n",
        "print('*********')\n",
        "arr_sum.cumsum(axis = 1)"
      ],
      "metadata": {
        "colab": {
          "base_uri": "https://localhost:8080/"
        },
        "id": "A6qt9qOiMn04",
        "outputId": "a16726fc-ffe9-425f-ba60-6e217ebfaeaa"
      },
      "execution_count": 71,
      "outputs": [
        {
          "output_type": "stream",
          "name": "stdout",
          "text": [
            "[[1 2 3 0]\n",
            " [4 5 6 0]\n",
            " [9 9 9 9]]\n",
            "*********\n"
          ]
        },
        {
          "output_type": "execute_result",
          "data": {
            "text/plain": [
              "array([[ 1,  3,  6,  6],\n",
              "       [ 4,  9, 15, 15],\n",
              "       [ 9, 18, 27, 36]])"
            ]
          },
          "metadata": {},
          "execution_count": 71
        }
      ]
    },
    {
      "cell_type": "markdown",
      "source": [
        "## Operações com Vetorização"
      ],
      "metadata": {
        "id": "b7eGuuspO8Kq"
      }
    },
    {
      "cell_type": "code",
      "source": [
        "# np.vectorize\n",
        "\n",
        "arr_v = np.array(['Hello', 'meninas', 'coders'])\n",
        "len(arr_v) > 5"
      ],
      "metadata": {
        "colab": {
          "base_uri": "https://localhost:8080/"
        },
        "id": "eYoaaHI8PDh8",
        "outputId": "cad3facb-4559-425c-a3fe-a64a471b2c0b"
      },
      "execution_count": 73,
      "outputs": [
        {
          "output_type": "execute_result",
          "data": {
            "text/plain": [
              "False"
            ]
          },
          "metadata": {},
          "execution_count": 73
        }
      ]
    },
    {
      "cell_type": "code",
      "source": [
        "vectorize_len = np.vectorize(len) # vetoriza um método de python 'len', no caso.\n",
        "vectorize_len(arr_v) # como um for loop, passa em todos os elementos e considera o tamanho de cada um"
      ],
      "metadata": {
        "colab": {
          "base_uri": "https://localhost:8080/"
        },
        "id": "DMsPcnsgWHzc",
        "outputId": "ef6f4303-761f-4c6d-c865-ca4f11f460f5"
      },
      "execution_count": 75,
      "outputs": [
        {
          "output_type": "execute_result",
          "data": {
            "text/plain": [
              "array([5, 7, 6])"
            ]
          },
          "metadata": {},
          "execution_count": 75
        }
      ]
    },
    {
      "cell_type": "code",
      "source": [
        "vectorize_len = np.vectorize(len)\n",
        "vectorize_len(arr_v) > 5 # fica como a máscara, que aprendemos anteriormente"
      ],
      "metadata": {
        "colab": {
          "base_uri": "https://localhost:8080/"
        },
        "id": "M5vASWCLWjRu",
        "outputId": "b6d926a3-3334-4236-ce35-7911c789be2c"
      },
      "execution_count": 76,
      "outputs": [
        {
          "output_type": "execute_result",
          "data": {
            "text/plain": [
              "array([False,  True,  True])"
            ]
          },
          "metadata": {},
          "execution_count": 76
        }
      ]
    },
    {
      "cell_type": "code",
      "source": [
        "def my_function(x):\n",
        "  return x + 3\n",
        "\n",
        "vec_my_function = np.vectorize(my_function) # vetorizando a função que criei com Python\n",
        "\n",
        "original_array = np.array([1, 2, 3, 4, 5])\n",
        "\n",
        "vec_new_array = vec_my_function(original_array)\n",
        "\n",
        "print(vec_new_array)"
      ],
      "metadata": {
        "colab": {
          "base_uri": "https://localhost:8080/"
        },
        "id": "VRD-5ysdXYmK",
        "outputId": "b39cd337-2328-4030-80a2-53020ea43186"
      },
      "execution_count": 78,
      "outputs": [
        {
          "output_type": "stream",
          "name": "stdout",
          "text": [
            "[4 5 6 7 8]\n"
          ]
        }
      ]
    },
    {
      "cell_type": "code",
      "source": [
        "# Broadcasting (transmissão)\n",
        "broad_arr = np.array([[1, 2], [5, 6]])\n",
        "broad_arr * 2"
      ],
      "metadata": {
        "colab": {
          "base_uri": "https://localhost:8080/"
        },
        "id": "YzW6VWOuZFXA",
        "outputId": "0974bd7c-bf4c-4ed6-d6de-1d40154bc584"
      },
      "execution_count": 79,
      "outputs": [
        {
          "output_type": "execute_result",
          "data": {
            "text/plain": [
              "array([[ 2,  4],\n",
              "       [10, 12]])"
            ]
          },
          "metadata": {},
          "execution_count": 79
        }
      ]
    },
    {
      "cell_type": "code",
      "source": [
        "arr_3x3= np.array([[1,2],\n",
        "                   [4, 5],\n",
        "                   [7,8]])\n",
        "\n",
        "arr_3x1 = np.array([1, 0, -1]).reshape((3,1))\n",
        "\n",
        "print(arr_3x1)"
      ],
      "metadata": {
        "colab": {
          "base_uri": "https://localhost:8080/"
        },
        "id": "-0LemFUyZg3-",
        "outputId": "f8d7446e-2619-4efd-cd7d-a51b7eefddb9"
      },
      "execution_count": 82,
      "outputs": [
        {
          "output_type": "stream",
          "name": "stdout",
          "text": [
            "[[ 1]\n",
            " [ 0]\n",
            " [-1]]\n"
          ]
        }
      ]
    },
    {
      "cell_type": "code",
      "source": [
        "arr_3x3 + arr_3x1"
      ],
      "metadata": {
        "colab": {
          "base_uri": "https://localhost:8080/"
        },
        "id": "pFLsnxqvZ8VU",
        "outputId": "6ab96425-13ee-4231-eb01-9f6dc192fe9c"
      },
      "execution_count": 84,
      "outputs": [
        {
          "output_type": "execute_result",
          "data": {
            "text/plain": [
              "array([[2, 3],\n",
              "       [4, 5],\n",
              "       [6, 7]])"
            ]
          },
          "metadata": {},
          "execution_count": 84
        }
      ]
    }
  ]
}